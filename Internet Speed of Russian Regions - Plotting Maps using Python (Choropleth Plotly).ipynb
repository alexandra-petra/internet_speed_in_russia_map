{
 "cells": [
  {
   "cell_type": "markdown",
   "id": "813f6fa1",
   "metadata": {},
   "source": [
    "# Plotting Internet Speeds in Russia using Choropleth Maps "
   ]
  },
  {
   "cell_type": "markdown",
   "id": "80f78a2f",
   "metadata": {},
   "source": [
    "![](Internet_map.png)"
   ]
  },
  {
   "cell_type": "markdown",
   "id": "bf4d6dae",
   "metadata": {},
   "source": [
    "## Notes:"
   ]
  },
  {
   "cell_type": "code",
   "execution_count": 131,
   "id": "5fc5fd1b",
   "metadata": {},
   "outputs": [],
   "source": [
    "# JSON data russia_geojson_wgs84.geojson is taken from https://obulantsev.carto.com/tables/russia_geojson_wgs84/public\n",
    "# The data of the Internet Speeds is taken from https://www.speedtest.net/performance/russia\n",
    "# CSV data file doesn't contain following regions: Crimea, Sevastopol, Chukotka "
   ]
  },
  {
   "cell_type": "markdown",
   "id": "9e025e4c",
   "metadata": {},
   "source": [
    "## Notebook"
   ]
  },
  {
   "cell_type": "code",
   "execution_count": 132,
   "id": "635e0361",
   "metadata": {},
   "outputs": [],
   "source": [
    "import numpy as np\n",
    "import pandas as pd\n",
    "import plotly.express as px\n",
    "import json\n",
    "import ogr\n",
    "import geopandas as gpd"
   ]
  },
  {
   "cell_type": "code",
   "execution_count": 133,
   "id": "914d25d8",
   "metadata": {},
   "outputs": [],
   "source": [
    "# loading json data\n",
    "\n",
    "russia_states = json.load(open(\"russia_geojson_wgs84.geojson\", \"r\"))"
   ]
  },
  {
   "cell_type": "code",
   "execution_count": 134,
   "id": "8b356db3",
   "metadata": {},
   "outputs": [
    {
     "data": {
      "text/plain": [
       "'Oryol Oblast'"
      ]
     },
     "execution_count": 134,
     "metadata": {},
     "output_type": "execute_result"
    }
   ],
   "source": [
    "# Checking where the name of the region is located\n",
    "\n",
    "russia_states['features'][0]['properties']['en_name']"
   ]
  },
  {
   "cell_type": "code",
   "execution_count": 135,
   "id": "d82e5e29",
   "metadata": {},
   "outputs": [
    {
     "data": {
      "text/plain": [
       "[35.991231, 53.626339]"
      ]
     },
     "execution_count": 135,
     "metadata": {},
     "output_type": "execute_result"
    }
   ],
   "source": [
    "# extracting lat and lon pair\n",
    "\n",
    "russia_states['features'][0]['geometry']['coordinates'][0][0][0]"
   ]
  },
  {
   "cell_type": "code",
   "execution_count": 136,
   "id": "bc8ec3e8",
   "metadata": {},
   "outputs": [],
   "source": [
    "# reading csv file \n",
    "\n",
    "df = pd.read_csv(\"Speedtest web scrap state_April.csv\")"
   ]
  },
  {
   "cell_type": "code",
   "execution_count": 137,
   "id": "6c4f9d1d",
   "metadata": {},
   "outputs": [],
   "source": [
    "# replacing title values manually to they match both in dataframe and in json file\n",
    "\n",
    "df = df.replace(to_replace = \"Khanty-Mansi Autonomous Okrug\", value = \"Khanty–Mansi Autonomous Okrug – Yugra\")\n",
    "df = df.replace(to_replace = \"Republic of Karelia\", value = \"The Republic of Karelia\")\n",
    "df = df.replace(to_replace = \"Tuva\", value = \"The Tyva Republic\")\n",
    "df = df.replace(to_replace = \"Republic of Khakassia\", value = \"The Republic of Khakassia\")\n",
    "df = df.replace(to_replace = \"Dagestan Republic\", value = \"The Republic of Dagestan\")\n",
    "df = df.replace(to_replace = \"Komi Republic\", value = \"The Komi Republic\")\n",
    "df = df.replace(to_replace = \"Adygea\", value = \"The Republic of Adygea\")\n",
    "df = df.replace(to_replace = \"Mordovia\", value = \"The Republic of Mordovia\")\n",
    "df = df.replace(to_replace = \"Republic of Bashkortostan\", value = \"The Republic of Bashkortostan\")\n",
    "df = df.replace(to_replace = \"Buryatia\", value = \"The Republic of Buryatia\")\n",
    "df = df.replace(to_replace = \"Mari El Republic\", value = \"The Mari El Republic\")\n",
    "df = df.replace(to_replace = \"Kalmykia\", value = \"The Republic of Kalmykia\")\n",
    "df = df.replace(to_replace = \"Sakha Republic\", value = \"The Sakha (Yakutia) Republic\")\n",
    "df = df.replace(to_replace = \"North Ossetia–Alania\", value = \"The Republic of North Ossetia–Alania\")\n",
    "df = df.replace(to_replace = \"Kabardino-Balkaria\", value = \"The Kabardino-Balkar Republic\")\n",
    "df = df.replace(to_replace = \"Karachay-Cherkessia\", value = \"The Karachay–Cherkess Republic\")\n",
    "df = df.replace(to_replace = \"Chuvashia Republic\", value = \"The Chuvash Republic\")\n",
    "df = df.replace(to_replace = \"Tatarstan\", value = \"The Republic of Tatarstan\")\n",
    "df = df.replace(to_replace = \"Ingushetia\", value = \"The Republic of Ingushetia\")\n",
    "df = df.replace(to_replace = \"Chechnya\", value = \"The Chechen Republic\")\n"
   ]
  },
  {
   "cell_type": "code",
   "execution_count": 138,
   "id": "d2718d2e",
   "metadata": {},
   "outputs": [
    {
     "name": "stdout",
     "output_type": "stream",
     "text": [
      "                               name_latin  Brandwidth Internet Speed\n",
      "0                  The Republic of Adygea                      51.59\n",
      "1                              Altai Krai                      69.00\n",
      "2                          Altai Republic                      47.84\n",
      "3                             Amur Oblast                      52.42\n",
      "4                      Arkhangelsk Oblast                      58.56\n",
      "5                        Astrakhan Oblast                      60.47\n",
      "6                         Belgorod Oblast                      46.09\n",
      "7                          Bryansk Oblast                      68.23\n",
      "8                The Republic of Buryatia                      70.41\n",
      "9                    The Chechen Republic                      29.40\n",
      "10                     Chelyabinsk Oblast                      72.63\n",
      "11                   The Chuvash Republic                      72.40\n",
      "12               The Republic of Dagestan                      52.72\n",
      "13             The Republic of Ingushetia                      55.89\n",
      "14                         Irkutsk Oblast                      62.51\n",
      "15                         Ivanovo Oblast                      59.55\n",
      "16               Jewish Autonomous Oblast                      50.16\n",
      "17          The Kabardino-Balkar Republic                      46.95\n",
      "18                     Kaliningrad Oblast                      57.73\n",
      "19               The Republic of Kalmykia                      57.94\n",
      "20                          Kaluga Oblast                      55.92\n",
      "21                         Kamchatka Krai                      63.25\n",
      "22         The Karachay–Cherkess Republic                      46.55\n",
      "23                        Kemerovo Oblast                      73.91\n",
      "24                        Khabarovsk Krai                      53.44\n",
      "25  Khanty–Mansi Autonomous Okrug – Yugra                      92.74\n",
      "26                           Kirov Oblast                      64.88\n",
      "27                      The Komi Republic                      58.28\n",
      "28                        Kostroma Oblast                      49.14\n",
      "29                         Krasnodar Krai                      55.11\n",
      "30                       Krasnoyarsk Krai                      73.50\n",
      "31                          Kurgan Oblast                      69.32\n",
      "32                           Kursk Oblast                      56.45\n",
      "33                       Leningrad Oblast                      56.56\n",
      "34                         Lipetsk Oblast                      67.48\n",
      "35                         Magadan Oblast                      38.98\n",
      "36                   The Mari El Republic                      80.26\n",
      "37               The Republic of Mordovia                      57.73\n",
      "38                                 Moscow                      89.80\n",
      "39                          Moscow Oblast                      61.85\n",
      "40                        Murmansk Oblast                      82.61\n",
      "41                Nenets Autonomous Okrug                      29.96\n",
      "42                 Nizhny Novgorod Oblast                      68.96\n",
      "43   The Republic of North Ossetia–Alania                      58.91\n",
      "44                        Novgorod Oblast                      51.27\n",
      "45                     Novosibirsk Oblast                      75.68\n",
      "46                            Omsk Oblast                      70.63\n",
      "47                        Orenburg Oblast                      66.61\n",
      "48                           Oryol Oblast                      55.06\n",
      "49                           Penza Oblast                      69.28\n",
      "50                              Perm Krai                      74.92\n",
      "51                         Primorsky Krai                      61.65\n",
      "52                           Pskov Oblast                      46.26\n",
      "53          The Republic of Bashkortostan                      68.87\n",
      "54                The Republic of Karelia                      67.06\n",
      "55              The Republic of Khakassia                      71.44\n",
      "56                          Rostov Oblast                      67.53\n",
      "57                          Ryazan Oblast                      68.48\n",
      "58                       Saint Petersburg                      79.00\n",
      "59           The Sakha (Yakutia) Republic                      45.18\n",
      "60                        Sakhalin Oblast                      47.62\n",
      "61                          Samara Oblast                      66.49\n",
      "62                         Saratov Oblast                      73.62\n",
      "63                        Smolensk Oblast                      59.30\n",
      "64                         Stavropol Krai                      56.08\n",
      "65                      Sverdlovsk Oblast                      74.53\n",
      "66                          Tambov Oblast                      68.10\n",
      "67              The Republic of Tatarstan                      63.26\n",
      "68                           Tomsk Oblast                      85.11\n",
      "69                            Tula Oblast                      61.52\n",
      "70                      The Tyva Republic                      28.18\n",
      "71                            Tver Oblast                      53.81\n",
      "72                          Tyumen Oblast                      73.56\n",
      "73                        Udmurt Republic                      70.05\n",
      "74                       Ulyanovsk Oblast                      68.16\n",
      "75                        Vladimir Oblast                      51.85\n",
      "76                       Volgograd Oblast                      67.66\n",
      "77                         Vologda Oblast                      64.16\n",
      "78                        Voronezh Oblast                      60.52\n",
      "79         Yamalo-Nenets Autonomous Okrug                      87.12\n",
      "80                       Yaroslavl Oblast                      60.18\n",
      "81                       Zabaykalsky Krai                      48.63\n"
     ]
    }
   ],
   "source": [
    "# check changing appeared:\n",
    "\n",
    "print(df.to_string())"
   ]
  },
  {
   "cell_type": "code",
   "execution_count": 139,
   "id": "b9f7eca3",
   "metadata": {},
   "outputs": [
    {
     "data": {
      "text/html": [
       "<div>\n",
       "<style scoped>\n",
       "    .dataframe tbody tr th:only-of-type {\n",
       "        vertical-align: middle;\n",
       "    }\n",
       "\n",
       "    .dataframe tbody tr th {\n",
       "        vertical-align: top;\n",
       "    }\n",
       "\n",
       "    .dataframe thead th {\n",
       "        text-align: right;\n",
       "    }\n",
       "</style>\n",
       "<table border=\"1\" class=\"dataframe\">\n",
       "  <thead>\n",
       "    <tr style=\"text-align: right;\">\n",
       "      <th></th>\n",
       "      <th>name_latin</th>\n",
       "      <th>Brandwidth Internet Speed</th>\n",
       "    </tr>\n",
       "  </thead>\n",
       "  <tbody>\n",
       "    <tr>\n",
       "      <th>0</th>\n",
       "      <td>The Republic of Adygea</td>\n",
       "      <td>51.59</td>\n",
       "    </tr>\n",
       "    <tr>\n",
       "      <th>1</th>\n",
       "      <td>Altai Krai</td>\n",
       "      <td>69.00</td>\n",
       "    </tr>\n",
       "    <tr>\n",
       "      <th>2</th>\n",
       "      <td>Altai Republic</td>\n",
       "      <td>47.84</td>\n",
       "    </tr>\n",
       "    <tr>\n",
       "      <th>3</th>\n",
       "      <td>Amur Oblast</td>\n",
       "      <td>52.42</td>\n",
       "    </tr>\n",
       "    <tr>\n",
       "      <th>4</th>\n",
       "      <td>Arkhangelsk Oblast</td>\n",
       "      <td>58.56</td>\n",
       "    </tr>\n",
       "    <tr>\n",
       "      <th>...</th>\n",
       "      <td>...</td>\n",
       "      <td>...</td>\n",
       "    </tr>\n",
       "    <tr>\n",
       "      <th>77</th>\n",
       "      <td>Vologda Oblast</td>\n",
       "      <td>64.16</td>\n",
       "    </tr>\n",
       "    <tr>\n",
       "      <th>78</th>\n",
       "      <td>Voronezh Oblast</td>\n",
       "      <td>60.52</td>\n",
       "    </tr>\n",
       "    <tr>\n",
       "      <th>79</th>\n",
       "      <td>Yamalo-Nenets Autonomous Okrug</td>\n",
       "      <td>87.12</td>\n",
       "    </tr>\n",
       "    <tr>\n",
       "      <th>80</th>\n",
       "      <td>Yaroslavl Oblast</td>\n",
       "      <td>60.18</td>\n",
       "    </tr>\n",
       "    <tr>\n",
       "      <th>81</th>\n",
       "      <td>Zabaykalsky Krai</td>\n",
       "      <td>48.63</td>\n",
       "    </tr>\n",
       "  </tbody>\n",
       "</table>\n",
       "<p>82 rows × 2 columns</p>\n",
       "</div>"
      ],
      "text/plain": [
       "                        name_latin  Brandwidth Internet Speed\n",
       "0           The Republic of Adygea                      51.59\n",
       "1                       Altai Krai                      69.00\n",
       "2                   Altai Republic                      47.84\n",
       "3                      Amur Oblast                      52.42\n",
       "4               Arkhangelsk Oblast                      58.56\n",
       "..                             ...                        ...\n",
       "77                  Vologda Oblast                      64.16\n",
       "78                 Voronezh Oblast                      60.52\n",
       "79  Yamalo-Nenets Autonomous Okrug                      87.12\n",
       "80                Yaroslavl Oblast                      60.18\n",
       "81                Zabaykalsky Krai                      48.63\n",
       "\n",
       "[82 rows x 2 columns]"
      ]
     },
     "execution_count": 139,
     "metadata": {},
     "output_type": "execute_result"
    }
   ],
   "source": [
    "# checking how df looks like\n",
    "\n",
    "df"
   ]
  },
  {
   "cell_type": "code",
   "execution_count": 140,
   "id": "083e73f1",
   "metadata": {},
   "outputs": [],
   "source": [
    "\n",
    "max_value = df['Brandwidth Internet Speed'].max()\n",
    "fig = px.choropleth(df, \n",
    "                    geojson= russia_states, \n",
    "                    locations='name_latin',       \n",
    "                    color='Brandwidth Internet Speed',\n",
    "                    color_continuous_scale=\"Viridis\",\n",
    "                    range_color=(0, max_value),\n",
    "                    featureidkey=\"properties.en_name\",\n",
    "                    projection=\"mercator\",\n",
    "                    title=\"Internet Speeds in the Regions of Russia\",\n",
    "                    )\n",
    "fig.update_geos(fitbounds=\"locations\", visible=False)\n",
    "#fig.update_layout(margin={\"r\":0,\"t\":0,\"l\":0,\"b\":0})\n",
    "fig.show()\n"
   ]
  }
 ],
 "metadata": {
  "kernelspec": {
   "display_name": "Python 3 (ipykernel)",
   "language": "python",
   "name": "python3"
  },
  "language_info": {
   "codemirror_mode": {
    "name": "ipython",
    "version": 3
   },
   "file_extension": ".py",
   "mimetype": "text/x-python",
   "name": "python",
   "nbconvert_exporter": "python",
   "pygments_lexer": "ipython3",
   "version": "3.8.8"
  }
 },
 "nbformat": 4,
 "nbformat_minor": 5
}
